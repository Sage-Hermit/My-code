{
 "cells": [
  {
   "cell_type": "code",
   "execution_count": 2,
   "metadata": {},
   "outputs": [
    {
     "ename": "SyntaxError",
     "evalue": "can't assign to function call (<ipython-input-2-58242e4d4aa0>, line 4)",
     "output_type": "error",
     "traceback": [
      "\u001b[1;36m  File \u001b[1;32m\"<ipython-input-2-58242e4d4aa0>\"\u001b[1;36m, line \u001b[1;32m4\u001b[0m\n\u001b[1;33m    with open('words.txt',) as word_dict():\u001b[0m\n\u001b[1;37m        ^\u001b[0m\n\u001b[1;31mSyntaxError\u001b[0m\u001b[1;31m:\u001b[0m can't assign to function call\n"
     ]
    }
   ],
   "source": [
    "#Peter wrote this wonderful Word Game\n",
    "\n",
    "def load_words():\n",
    "    with open('words.txt',) as word_dict():\n",
    "        valid_words = set(word_dict.read().split())\n",
    "    return valid_words\n",
    "    #words is my random words library\n",
    "    \n",
    "\n",
    "english_words = load_words ()\n",
    "\n",
    "\n",
    "score = 0\n",
    "\n",
    "while True:\n",
    "    word_input = input (\"Enter a valid 5 letter English word >>\").lower()\n",
    "    if word_input in english_words and len (word_input) <= 5:\n",
    "        score += 5\n",
    "        print (\"Bravo! {} is valid. You've earned 5 points. \\n Total score = {} points\". format(word_input, score))\n",
    "    #break the loop using block\n",
    "    elif word_input == \"terminate\":\n",
    "        print (\"Wonderful! Total score = {} points\".format (score))\n",
    "        break\n",
    "    else:\n",
    "        print(\"Oooops! {} is invalid. You've earned no points. \\n Total score = {}\".format(word_input, score))"
   ]
  },
  {
   "cell_type": "code",
   "execution_count": null,
   "metadata": {},
   "outputs": [],
   "source": []
  }
 ],
 "metadata": {
  "kernelspec": {
   "display_name": "Python 3",
   "language": "python",
   "name": "python3"
  }
 },
 "nbformat": 4,
 "nbformat_minor": 2
}
