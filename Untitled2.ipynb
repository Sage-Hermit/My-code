{
 "cells": [
  {
   "cell_type": "code",
   "execution_count": 4,
   "metadata": {},
   "outputs": [],
   "source": [
    "def rand_word():\n",
    "    \n",
    "    with open(\"words.txt\") as word_dict:\n",
    "        english_words = list(word.strip().lower() for word in word_dict)\n",
    "        \n",
    "        \n",
    "    import random\n",
    "    \n",
    "    number = random.randit(0, 7)\n",
    "    gen_word = english_words[number]\n",
    "    print(gen_word)\n",
    "    \n",
    "    shuf_word = list(n for n in gen_word)\n",
    "    random.shuffle(shuf_word)\n",
    "    \n",
    "    print(\"Word Game by Peter\")\n",
    "    print(\"\\n A random word will appear now\")\n",
    "    print(\"Type the unscrambled correct word\\n\\n\")\n",
    "    print(\"The word is: \", end=\"\")\n",
    "    \n",
    "    for n in shuf_word:\n",
    "        print(n, sep=\"\", end=\"\")\n",
    "        \n",
    "    while True:\n",
    "        \n",
    "        answer = input(\"\\n Input the correct word here: \")\n",
    "        \n",
    "        if answer == gen_word:\n",
    "            print(\"Bravo! You are right.\")\n",
    "            break\n",
    "            \n",
    "        else:\n",
    "            print(\"Ooops! Please try again\")\n",
    "            print(\"The word is {}\".format(gen_word))\n",
    "            \n",
    "            "
   ]
  },
  {
   "cell_type": "code",
   "execution_count": null,
   "metadata": {},
   "outputs": [],
   "source": []
  }
 ],
 "metadata": {
  "kernelspec": {
   "display_name": "Python 3",
   "language": "python",
   "name": "python3"
  },
  "language_info": {
   "codemirror_mode": {
    "name": "ipython",
    "version": 3
   },
   "file_extension": ".py",
   "mimetype": "text/x-python",
   "name": "python",
   "nbconvert_exporter": "python",
   "pygments_lexer": "ipython3",
   "version": "3.7.1"
  }
 },
 "nbformat": 4,
 "nbformat_minor": 2
}
